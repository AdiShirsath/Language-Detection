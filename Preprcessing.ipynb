{
 "cells": [
  {
   "cell_type": "markdown",
   "id": "b99e4e66-2552-4289-9773-722c0e1689bc",
   "metadata": {},
   "source": [
    "Dataset link is [here](https://zenodo.org/record/841984#.YKKPGKgzZPY)\n",
    "\n",
    "https://downloads.tatoeba.org/exports/"
   ]
  },
  {
   "cell_type": "code",
   "execution_count": 3,
   "id": "3f89e922-deed-497e-9ac9-8b5c67bb8a81",
   "metadata": {},
   "outputs": [],
   "source": [
    "\n",
    "import pandas as pd"
   ]
  },
  {
   "cell_type": "markdown",
   "id": "40d78eac-5335-4b6b-be27-d767821020df",
   "metadata": {},
   "source": [
    "### Import data"
   ]
  },
  {
   "cell_type": "code",
   "execution_count": 2,
   "id": "aae5152e-20f6-4dfd-bfea-1f0fccc0dd25",
   "metadata": {},
   "outputs": [],
   "source": [
    "df = pd.read_csv('data/sentences.csv', sep='\\t', encoding='utf-8',header=None, names=['number', 'Label', 'Text'])"
   ]
  },
  {
   "cell_type": "code",
   "execution_count": 3,
   "id": "92545219-ee22-4dbe-b53e-076e5966b7e8",
   "metadata": {},
   "outputs": [
    {
     "data": {
      "text/html": [
       "<div>\n",
       "<style scoped>\n",
       "    .dataframe tbody tr th:only-of-type {\n",
       "        vertical-align: middle;\n",
       "    }\n",
       "\n",
       "    .dataframe tbody tr th {\n",
       "        vertical-align: top;\n",
       "    }\n",
       "\n",
       "    .dataframe thead th {\n",
       "        text-align: right;\n",
       "    }\n",
       "</style>\n",
       "<table border=\"1\" class=\"dataframe\">\n",
       "  <thead>\n",
       "    <tr style=\"text-align: right;\">\n",
       "      <th></th>\n",
       "      <th>number</th>\n",
       "      <th>Label</th>\n",
       "      <th>Text</th>\n",
       "    </tr>\n",
       "  </thead>\n",
       "  <tbody>\n",
       "    <tr>\n",
       "      <th>0</th>\n",
       "      <td>1</td>\n",
       "      <td>cmn</td>\n",
       "      <td>我們試試看！</td>\n",
       "    </tr>\n",
       "    <tr>\n",
       "      <th>1</th>\n",
       "      <td>2</td>\n",
       "      <td>cmn</td>\n",
       "      <td>我该去睡觉了。</td>\n",
       "    </tr>\n",
       "    <tr>\n",
       "      <th>2</th>\n",
       "      <td>3</td>\n",
       "      <td>cmn</td>\n",
       "      <td>你在干什麼啊？</td>\n",
       "    </tr>\n",
       "    <tr>\n",
       "      <th>3</th>\n",
       "      <td>4</td>\n",
       "      <td>cmn</td>\n",
       "      <td>這是什麼啊？</td>\n",
       "    </tr>\n",
       "    <tr>\n",
       "      <th>4</th>\n",
       "      <td>5</td>\n",
       "      <td>cmn</td>\n",
       "      <td>今天是６月１８号，也是Muiriel的生日！</td>\n",
       "    </tr>\n",
       "    <tr>\n",
       "      <th>...</th>\n",
       "      <td>...</td>\n",
       "      <td>...</td>\n",
       "      <td>...</td>\n",
       "    </tr>\n",
       "    <tr>\n",
       "      <th>9593117</th>\n",
       "      <td>10037740</td>\n",
       "      <td>eng</td>\n",
       "      <td>If you eat this, then I'll eat it, too.</td>\n",
       "    </tr>\n",
       "    <tr>\n",
       "      <th>9593118</th>\n",
       "      <td>10037741</td>\n",
       "      <td>eng</td>\n",
       "      <td>If you eat this, I'll eat it, too.</td>\n",
       "    </tr>\n",
       "    <tr>\n",
       "      <th>9593119</th>\n",
       "      <td>10037742</td>\n",
       "      <td>deu</td>\n",
       "      <td>Geld ist besser als Armut –- wenn auch nur aus...</td>\n",
       "    </tr>\n",
       "    <tr>\n",
       "      <th>9593120</th>\n",
       "      <td>10037743</td>\n",
       "      <td>eng</td>\n",
       "      <td>If you do that, I'll do it, too.</td>\n",
       "    </tr>\n",
       "    <tr>\n",
       "      <th>9593121</th>\n",
       "      <td>10037744</td>\n",
       "      <td>fin</td>\n",
       "      <td>Haluan miettiä sitä itse.</td>\n",
       "    </tr>\n",
       "  </tbody>\n",
       "</table>\n",
       "<p>9593122 rows × 3 columns</p>\n",
       "</div>"
      ],
      "text/plain": [
       "           number Label                                               Text\n",
       "0               1   cmn                                             我們試試看！\n",
       "1               2   cmn                                            我该去睡觉了。\n",
       "2               3   cmn                                            你在干什麼啊？\n",
       "3               4   cmn                                             這是什麼啊？\n",
       "4               5   cmn                             今天是６月１８号，也是Muiriel的生日！\n",
       "...           ...   ...                                                ...\n",
       "9593117  10037740   eng            If you eat this, then I'll eat it, too.\n",
       "9593118  10037741   eng                 If you eat this, I'll eat it, too.\n",
       "9593119  10037742   deu  Geld ist besser als Armut –- wenn auch nur aus...\n",
       "9593120  10037743   eng                   If you do that, I'll do it, too.\n",
       "9593121  10037744   fin                          Haluan miettiä sitä itse.\n",
       "\n",
       "[9593122 rows x 3 columns]"
      ]
     },
     "execution_count": 3,
     "metadata": {},
     "output_type": "execute_result"
    }
   ],
   "source": [
    "df"
   ]
  },
  {
   "cell_type": "code",
   "execution_count": 4,
   "id": "39964d88-8b71-475c-99f6-6e099b46971d",
   "metadata": {},
   "outputs": [],
   "source": [
    "# drop numberc column we don't need it\n",
    "df.drop(['number'], axis=1, inplace=True)"
   ]
  },
  {
   "cell_type": "code",
   "execution_count": 5,
   "id": "a6ddb10e-f453-465d-9424-4b12f8b4a30f",
   "metadata": {},
   "outputs": [],
   "source": [
    "# labels_frequency\n",
    "label_frequency= df.Label.value_counts()  \n",
    "\n",
    "\n",
    "  \n",
    "    "
   ]
  },
  {
   "cell_type": "code",
   "execution_count": 6,
   "id": "54a18580-59e1-4122-8ecf-0a82f898e75b",
   "metadata": {},
   "outputs": [
    {
     "data": {
      "text/html": [
       "<div>\n",
       "<style scoped>\n",
       "    .dataframe tbody tr th:only-of-type {\n",
       "        vertical-align: middle;\n",
       "    }\n",
       "\n",
       "    .dataframe tbody tr th {\n",
       "        vertical-align: top;\n",
       "    }\n",
       "\n",
       "    .dataframe thead th {\n",
       "        text-align: right;\n",
       "    }\n",
       "</style>\n",
       "<table border=\"1\" class=\"dataframe\">\n",
       "  <thead>\n",
       "    <tr style=\"text-align: right;\">\n",
       "      <th></th>\n",
       "      <th>Label</th>\n",
       "    </tr>\n",
       "  </thead>\n",
       "  <tbody>\n",
       "    <tr>\n",
       "      <th>eng</th>\n",
       "      <td>1471328</td>\n",
       "    </tr>\n",
       "    <tr>\n",
       "      <th>rus</th>\n",
       "      <td>847687</td>\n",
       "    </tr>\n",
       "    <tr>\n",
       "      <th>ita</th>\n",
       "      <td>785886</td>\n",
       "    </tr>\n",
       "    <tr>\n",
       "      <th>tur</th>\n",
       "      <td>709325</td>\n",
       "    </tr>\n",
       "    <tr>\n",
       "      <th>epo</th>\n",
       "      <td>658137</td>\n",
       "    </tr>\n",
       "    <tr>\n",
       "      <th>...</th>\n",
       "      <td>...</td>\n",
       "    </tr>\n",
       "    <tr>\n",
       "      <th>nys</th>\n",
       "      <td>1</td>\n",
       "    </tr>\n",
       "    <tr>\n",
       "      <th>ryu</th>\n",
       "      <td>1</td>\n",
       "    </tr>\n",
       "    <tr>\n",
       "      <th>oji</th>\n",
       "      <td>1</td>\n",
       "    </tr>\n",
       "    <tr>\n",
       "      <th>lou</th>\n",
       "      <td>1</td>\n",
       "    </tr>\n",
       "    <tr>\n",
       "      <th>ssw</th>\n",
       "      <td>1</td>\n",
       "    </tr>\n",
       "  </tbody>\n",
       "</table>\n",
       "<p>396 rows × 1 columns</p>\n",
       "</div>"
      ],
      "text/plain": [
       "       Label\n",
       "eng  1471328\n",
       "rus   847687\n",
       "ita   785886\n",
       "tur   709325\n",
       "epo   658137\n",
       "..       ...\n",
       "nys        1\n",
       "ryu        1\n",
       "oji        1\n",
       "lou        1\n",
       "ssw        1\n",
       "\n",
       "[396 rows x 1 columns]"
      ]
     },
     "execution_count": 6,
     "metadata": {},
     "output_type": "execute_result"
    }
   ],
   "source": [
    "label_frequency = pd.DataFrame(label_frequency)\n",
    "label_frequency"
   ]
  },
  {
   "cell_type": "code",
   "execution_count": 7,
   "id": "fbd616c2-da3b-442b-ace1-ea71a3964022",
   "metadata": {},
   "outputs": [
    {
     "data": {
      "text/html": [
       "<div>\n",
       "<style scoped>\n",
       "    .dataframe tbody tr th:only-of-type {\n",
       "        vertical-align: middle;\n",
       "    }\n",
       "\n",
       "    .dataframe tbody tr th {\n",
       "        vertical-align: top;\n",
       "    }\n",
       "\n",
       "    .dataframe thead th {\n",
       "        text-align: right;\n",
       "    }\n",
       "</style>\n",
       "<table border=\"1\" class=\"dataframe\">\n",
       "  <thead>\n",
       "    <tr style=\"text-align: right;\">\n",
       "      <th></th>\n",
       "      <th>Label</th>\n",
       "    </tr>\n",
       "  </thead>\n",
       "  <tbody>\n",
       "    <tr>\n",
       "      <th>grn</th>\n",
       "      <td>2919.0</td>\n",
       "    </tr>\n",
       "    <tr>\n",
       "      <th>asm</th>\n",
       "      <td>2897.0</td>\n",
       "    </tr>\n",
       "    <tr>\n",
       "      <th>frr</th>\n",
       "      <td>2855.0</td>\n",
       "    </tr>\n",
       "    <tr>\n",
       "      <th>mon</th>\n",
       "      <td>2759.0</td>\n",
       "    </tr>\n",
       "    <tr>\n",
       "      <th>dtp</th>\n",
       "      <td>2689.0</td>\n",
       "    </tr>\n",
       "    <tr>\n",
       "      <th>...</th>\n",
       "      <td>...</td>\n",
       "    </tr>\n",
       "    <tr>\n",
       "      <th>nys</th>\n",
       "      <td>1.0</td>\n",
       "    </tr>\n",
       "    <tr>\n",
       "      <th>ryu</th>\n",
       "      <td>1.0</td>\n",
       "    </tr>\n",
       "    <tr>\n",
       "      <th>oji</th>\n",
       "      <td>1.0</td>\n",
       "    </tr>\n",
       "    <tr>\n",
       "      <th>lou</th>\n",
       "      <td>1.0</td>\n",
       "    </tr>\n",
       "    <tr>\n",
       "      <th>ssw</th>\n",
       "      <td>1.0</td>\n",
       "    </tr>\n",
       "  </tbody>\n",
       "</table>\n",
       "<p>319 rows × 1 columns</p>\n",
       "</div>"
      ],
      "text/plain": [
       "      Label\n",
       "grn  2919.0\n",
       "asm  2897.0\n",
       "frr  2855.0\n",
       "mon  2759.0\n",
       "dtp  2689.0\n",
       "..      ...\n",
       "nys     1.0\n",
       "ryu     1.0\n",
       "oji     1.0\n",
       "lou     1.0\n",
       "ssw     1.0\n",
       "\n",
       "[319 rows x 1 columns]"
      ]
     },
     "execution_count": 7,
     "metadata": {},
     "output_type": "execute_result"
    }
   ],
   "source": [
    "less_than_3000 = label_frequency.where(label_frequency.Label<3000).dropna()\n",
    "less_than_3000"
   ]
  },
  {
   "cell_type": "code",
   "execution_count": 8,
   "id": "486f6fa0-f28b-4cb5-a586-784798813990",
   "metadata": {},
   "outputs": [
    {
     "data": {
      "text/plain": [
       "Index(['grn', 'asm', 'frr', 'mon', 'dtp', 'cbk', 'sqi', 'ilo', 'gle', 'arq',\n",
       "       ...\n",
       "       'lug', 'urh', 'hax', 'cyo', 'rel', 'nys', 'ryu', 'oji', 'lou', 'ssw'],\n",
       "      dtype='object', length=319)"
      ]
     },
     "execution_count": 8,
     "metadata": {},
     "output_type": "execute_result"
    }
   ],
   "source": [
    "drop_list = less_than_3000.index\n",
    "drop_list"
   ]
  },
  {
   "cell_type": "code",
   "execution_count": 9,
   "id": "e1281566-b658-4285-a322-bc42b24b8a49",
   "metadata": {},
   "outputs": [
    {
     "data": {
      "text/html": [
       "<div>\n",
       "<style scoped>\n",
       "    .dataframe tbody tr th:only-of-type {\n",
       "        vertical-align: middle;\n",
       "    }\n",
       "\n",
       "    .dataframe tbody tr th {\n",
       "        vertical-align: top;\n",
       "    }\n",
       "\n",
       "    .dataframe thead th {\n",
       "        text-align: right;\n",
       "    }\n",
       "</style>\n",
       "<table border=\"1\" class=\"dataframe\">\n",
       "  <thead>\n",
       "    <tr style=\"text-align: right;\">\n",
       "      <th></th>\n",
       "      <th>Label</th>\n",
       "      <th>Text</th>\n",
       "    </tr>\n",
       "  </thead>\n",
       "  <tbody>\n",
       "    <tr>\n",
       "      <th>0</th>\n",
       "      <td>cmn</td>\n",
       "      <td>我們試試看！</td>\n",
       "    </tr>\n",
       "    <tr>\n",
       "      <th>1</th>\n",
       "      <td>cmn</td>\n",
       "      <td>我该去睡觉了。</td>\n",
       "    </tr>\n",
       "    <tr>\n",
       "      <th>2</th>\n",
       "      <td>cmn</td>\n",
       "      <td>你在干什麼啊？</td>\n",
       "    </tr>\n",
       "    <tr>\n",
       "      <th>3</th>\n",
       "      <td>cmn</td>\n",
       "      <td>這是什麼啊？</td>\n",
       "    </tr>\n",
       "    <tr>\n",
       "      <th>4</th>\n",
       "      <td>cmn</td>\n",
       "      <td>今天是６月１８号，也是Muiriel的生日！</td>\n",
       "    </tr>\n",
       "  </tbody>\n",
       "</table>\n",
       "</div>"
      ],
      "text/plain": [
       "  Label                    Text\n",
       "0   cmn                  我們試試看！\n",
       "1   cmn                 我该去睡觉了。\n",
       "2   cmn                 你在干什麼啊？\n",
       "3   cmn                  這是什麼啊？\n",
       "4   cmn  今天是６月１８号，也是Muiriel的生日！"
      ]
     },
     "execution_count": 9,
     "metadata": {},
     "output_type": "execute_result"
    }
   ],
   "source": [
    "df.head()"
   ]
  },
  {
   "cell_type": "code",
   "execution_count": 10,
   "id": "8fe8b38a-4bf2-4773-b3c0-ac4890b2b135",
   "metadata": {},
   "outputs": [],
   "source": [
    "train_df = df.copy()\n",
    "\n"
   ]
  },
  {
   "cell_type": "code",
   "execution_count": 11,
   "id": "d0fa8539-5745-40d7-83d1-496f3b2baf94",
   "metadata": {},
   "outputs": [
    {
     "name": "stderr",
     "output_type": "stream",
     "text": [
      "100%|████████████████████████████████████████████████████████████████████████████████| 319/319 [05:40<00:00,  1.07s/it]\n"
     ]
    }
   ],
   "source": [
    "for i in tqdm(drop_list):\n",
    "    train_df = train_df.loc[train_df.Label != i]\n"
   ]
  },
  {
   "cell_type": "code",
   "execution_count": 12,
   "id": "1c195419-7f57-48f1-a09c-7c869ec2d2f0",
   "metadata": {},
   "outputs": [
    {
     "data": {
      "text/plain": [
       "9489909"
      ]
     },
     "execution_count": 12,
     "metadata": {},
     "output_type": "execute_result"
    }
   ],
   "source": [
    "len(train_df)"
   ]
  },
  {
   "cell_type": "code",
   "execution_count": 13,
   "id": "5790180a-f88e-4fad-b521-657f1431d924",
   "metadata": {},
   "outputs": [
    {
     "data": {
      "text/plain": [
       "eng    1471328\n",
       "rus     847687\n",
       "ita     785886\n",
       "tur     709325\n",
       "epo     658137\n",
       "        ...   \n",
       "cor       3925\n",
       "kaz       3685\n",
       "kzj       3685\n",
       "est       3613\n",
       "tha       3495\n",
       "Name: Label, Length: 77, dtype: int64"
      ]
     },
     "execution_count": 13,
     "metadata": {},
     "output_type": "execute_result"
    }
   ],
   "source": [
    "train_df.Label.value_counts()"
   ]
  },
  {
   "cell_type": "markdown",
   "id": "aabe1aa8-76c0-4be5-8703-6a0d8f547954",
   "metadata": {},
   "source": [
    "***we will take 6000 sample of each label which has more thah 6k samples***"
   ]
  },
  {
   "cell_type": "code",
   "execution_count": 14,
   "id": "be9fc80d-5e58-40b3-bb51-fdba265c089f",
   "metadata": {},
   "outputs": [],
   "source": [
    "more_than_6000 = label_frequency.where(label_frequency.Label>6000).dropna()"
   ]
  },
  {
   "cell_type": "code",
   "execution_count": 15,
   "id": "5561044f-4f33-4c7a-9a30-a9ab30b36289",
   "metadata": {},
   "outputs": [
    {
     "data": {
      "text/plain": [
       "Index(['eng', 'rus', 'ita', 'tur', 'epo', 'kab', 'deu', 'fra', 'por', 'ber',\n",
       "       'spa', 'hun', 'jpn', 'heb', 'ukr', 'nld', 'fin', 'pol', 'mkd', 'cmn',\n",
       "       'mar', 'lit', 'ces', 'dan', 'srp', 'toki', 'swe', 'lat', 'ara', 'ell',\n",
       "       'ina', 'ron', 'bul', 'pes', 'vie', 'tlh', 'nds', 'lfn', 'tgl', 'jbo',\n",
       "       'nob', 'ind', 'tat', 'slk', 'hin', 'bel', 'isl', 'kmr', 'cat', 'uig',\n",
       "       'kor', 'ile', 'ido', 'bre', 'tuk', 'yid', 'eus', 'yue'],\n",
       "      dtype='object')"
      ]
     },
     "execution_count": 15,
     "metadata": {},
     "output_type": "execute_result"
    }
   ],
   "source": [
    "sample_list_drop = more_than_6000.index\n",
    "sample_list_drop"
   ]
  },
  {
   "cell_type": "code",
   "execution_count": 16,
   "id": "36bad1fb-529d-41ee-92ad-777d4c9110bd",
   "metadata": {},
   "outputs": [],
   "source": [
    "sample_df=pd.DataFrame()"
   ]
  },
  {
   "cell_type": "code",
   "execution_count": 17,
   "id": "a22ac936-72b4-4521-8e52-bfd4768ef5b0",
   "metadata": {},
   "outputs": [
    {
     "name": "stderr",
     "output_type": "stream",
     "text": [
      "100%|██████████████████████████████████████████████████████████████████████████████████| 58/58 [00:26<00:00,  2.18it/s]\n"
     ]
    }
   ],
   "source": [
    "for i in tqdm(range(len(sample_list_drop))):\n",
    "    sample_df = pd.concat([train_df.loc[train_df.Label == sample_list_drop[i]].sample(6000), sample_df])\n"
   ]
  },
  {
   "cell_type": "code",
   "execution_count": 18,
   "id": "e2533619-5f55-4352-8495-30613c6d415a",
   "metadata": {},
   "outputs": [
    {
     "data": {
      "text/html": [
       "<div>\n",
       "<style scoped>\n",
       "    .dataframe tbody tr th:only-of-type {\n",
       "        vertical-align: middle;\n",
       "    }\n",
       "\n",
       "    .dataframe tbody tr th {\n",
       "        vertical-align: top;\n",
       "    }\n",
       "\n",
       "    .dataframe thead th {\n",
       "        text-align: right;\n",
       "    }\n",
       "</style>\n",
       "<table border=\"1\" class=\"dataframe\">\n",
       "  <thead>\n",
       "    <tr style=\"text-align: right;\">\n",
       "      <th></th>\n",
       "      <th>Label</th>\n",
       "      <th>Text</th>\n",
       "    </tr>\n",
       "  </thead>\n",
       "  <tbody>\n",
       "    <tr>\n",
       "      <th>5021444</th>\n",
       "      <td>yue</td>\n",
       "      <td>你點解唔同我哋講嘅？</td>\n",
       "    </tr>\n",
       "    <tr>\n",
       "      <th>1952374</th>\n",
       "      <td>yue</td>\n",
       "      <td>你要食早餐啊。</td>\n",
       "    </tr>\n",
       "    <tr>\n",
       "      <th>1018771</th>\n",
       "      <td>yue</td>\n",
       "      <td>你同我講嘢？</td>\n",
       "    </tr>\n",
       "    <tr>\n",
       "      <th>5383439</th>\n",
       "      <td>yue</td>\n",
       "      <td>放開佢！</td>\n",
       "    </tr>\n",
       "    <tr>\n",
       "      <th>5411289</th>\n",
       "      <td>yue</td>\n",
       "      <td>你成世人收過最正嘅聖誕禮物係咩呀？</td>\n",
       "    </tr>\n",
       "    <tr>\n",
       "      <th>...</th>\n",
       "      <td>...</td>\n",
       "      <td>...</td>\n",
       "    </tr>\n",
       "    <tr>\n",
       "      <th>8770558</th>\n",
       "      <td>eng</td>\n",
       "      <td>Tom might want you to do that.</td>\n",
       "    </tr>\n",
       "    <tr>\n",
       "      <th>5861899</th>\n",
       "      <td>eng</td>\n",
       "      <td>Is Tom going to play the guitar for us tonight?</td>\n",
       "    </tr>\n",
       "    <tr>\n",
       "      <th>2403529</th>\n",
       "      <td>eng</td>\n",
       "      <td>I was sure of it.</td>\n",
       "    </tr>\n",
       "    <tr>\n",
       "      <th>3347605</th>\n",
       "      <td>eng</td>\n",
       "      <td>Time is precious.</td>\n",
       "    </tr>\n",
       "    <tr>\n",
       "      <th>2634566</th>\n",
       "      <td>eng</td>\n",
       "      <td>Claudia asked Paolo, \"Do you love Francesca?\"</td>\n",
       "    </tr>\n",
       "  </tbody>\n",
       "</table>\n",
       "<p>348000 rows × 2 columns</p>\n",
       "</div>"
      ],
      "text/plain": [
       "        Label                                             Text\n",
       "5021444   yue                                       你點解唔同我哋講嘅？\n",
       "1952374   yue                                          你要食早餐啊。\n",
       "1018771   yue                                           你同我講嘢？\n",
       "5383439   yue                                             放開佢！\n",
       "5411289   yue                                你成世人收過最正嘅聖誕禮物係咩呀？\n",
       "...       ...                                              ...\n",
       "8770558   eng                   Tom might want you to do that.\n",
       "5861899   eng  Is Tom going to play the guitar for us tonight?\n",
       "2403529   eng                                I was sure of it.\n",
       "3347605   eng                                Time is precious.\n",
       "2634566   eng    Claudia asked Paolo, \"Do you love Francesca?\"\n",
       "\n",
       "[348000 rows x 2 columns]"
      ]
     },
     "execution_count": 18,
     "metadata": {},
     "output_type": "execute_result"
    }
   ],
   "source": [
    "sample_df"
   ]
  },
  {
   "cell_type": "markdown",
   "id": "e0e14850-5262-4489-8f52-ed8190bc4839",
   "metadata": {},
   "source": [
    "***Now some in sample df we dont have labels between 3000 to 6000 take them***\n"
   ]
  },
  {
   "cell_type": "code",
   "execution_count": 28,
   "id": "9ea096dc-48ac-4b2e-ae20-6b05c705e409",
   "metadata": {},
   "outputs": [
    {
     "name": "stderr",
     "output_type": "stream",
     "text": [
      "100%|██████████████████████████████████████████████████████████████████████████████████| 58/58 [00:10<00:00,  5.54it/s]\n"
     ]
    }
   ],
   "source": [
    "for i in tqdm(more_than_6000.index):\n",
    "    train_df = train_df.loc[train_df.Label != i]\n"
   ]
  },
  {
   "cell_type": "code",
   "execution_count": 32,
   "id": "30e7f5fa-e4f8-4bbc-be66-1aa6524d1ad5",
   "metadata": {},
   "outputs": [
    {
     "data": {
      "text/plain": [
       "kat    5731\n",
       "oci    5693\n",
       "gos    5559\n",
       "aze    5347\n",
       "run    5278\n",
       "hrv    5202\n",
       "ben    4714\n",
       "glg    4603\n",
       "wuu    4505\n",
       "mhr    4300\n",
       "zsm    4258\n",
       "vol    4101\n",
       "afr    4031\n",
       "avk    3942\n",
       "cor    3925\n",
       "kzj    3685\n",
       "kaz    3685\n",
       "est    3613\n",
       "tha    3495\n",
       "Name: Label, dtype: int64"
      ]
     },
     "execution_count": 32,
     "metadata": {},
     "output_type": "execute_result"
    }
   ],
   "source": [
    "train_df.Label.value_counts()"
   ]
  },
  {
   "cell_type": "code",
   "execution_count": 33,
   "id": "d0ecc0d7-327c-483b-8027-f53966c7b783",
   "metadata": {},
   "outputs": [],
   "source": [
    "main_df = pd.concat([sample_df, train_df])"
   ]
  },
  {
   "cell_type": "code",
   "execution_count": 34,
   "id": "99604d2c-e005-40bf-aeb1-79638a6ad190",
   "metadata": {},
   "outputs": [
    {
     "data": {
      "text/html": [
       "<div>\n",
       "<style scoped>\n",
       "    .dataframe tbody tr th:only-of-type {\n",
       "        vertical-align: middle;\n",
       "    }\n",
       "\n",
       "    .dataframe tbody tr th {\n",
       "        vertical-align: top;\n",
       "    }\n",
       "\n",
       "    .dataframe thead th {\n",
       "        text-align: right;\n",
       "    }\n",
       "</style>\n",
       "<table border=\"1\" class=\"dataframe\">\n",
       "  <thead>\n",
       "    <tr style=\"text-align: right;\">\n",
       "      <th></th>\n",
       "      <th>Label</th>\n",
       "      <th>Text</th>\n",
       "    </tr>\n",
       "  </thead>\n",
       "  <tbody>\n",
       "    <tr>\n",
       "      <th>5021444</th>\n",
       "      <td>yue</td>\n",
       "      <td>你點解唔同我哋講嘅？</td>\n",
       "    </tr>\n",
       "    <tr>\n",
       "      <th>1952374</th>\n",
       "      <td>yue</td>\n",
       "      <td>你要食早餐啊。</td>\n",
       "    </tr>\n",
       "    <tr>\n",
       "      <th>1018771</th>\n",
       "      <td>yue</td>\n",
       "      <td>你同我講嘢？</td>\n",
       "    </tr>\n",
       "    <tr>\n",
       "      <th>5383439</th>\n",
       "      <td>yue</td>\n",
       "      <td>放開佢！</td>\n",
       "    </tr>\n",
       "    <tr>\n",
       "      <th>5411289</th>\n",
       "      <td>yue</td>\n",
       "      <td>你成世人收過最正嘅聖誕禮物係咩呀？</td>\n",
       "    </tr>\n",
       "    <tr>\n",
       "      <th>...</th>\n",
       "      <td>...</td>\n",
       "      <td>...</td>\n",
       "    </tr>\n",
       "    <tr>\n",
       "      <th>9592864</th>\n",
       "      <td>kzj</td>\n",
       "      <td>Au zikoi monoodo do kobohingkaangan.</td>\n",
       "    </tr>\n",
       "    <tr>\n",
       "      <th>9592869</th>\n",
       "      <td>kzj</td>\n",
       "      <td>Onu kozo di kinaantakan doiti?</td>\n",
       "    </tr>\n",
       "    <tr>\n",
       "      <th>9592872</th>\n",
       "      <td>kzj</td>\n",
       "      <td>Ouhan no do momongo do kobohingkaangan dii.</td>\n",
       "    </tr>\n",
       "    <tr>\n",
       "      <th>9592874</th>\n",
       "      <td>kzj</td>\n",
       "      <td>Notipu no o kolar om minogidu no i tasu.</td>\n",
       "    </tr>\n",
       "    <tr>\n",
       "      <th>9592877</th>\n",
       "      <td>kzj</td>\n",
       "      <td>Nakabalajal zou do boos Onggilis di duvo toun.</td>\n",
       "    </tr>\n",
       "  </tbody>\n",
       "</table>\n",
       "<p>433682 rows × 2 columns</p>\n",
       "</div>"
      ],
      "text/plain": [
       "        Label                                            Text\n",
       "5021444   yue                                      你點解唔同我哋講嘅？\n",
       "1952374   yue                                         你要食早餐啊。\n",
       "1018771   yue                                          你同我講嘢？\n",
       "5383439   yue                                            放開佢！\n",
       "5411289   yue                               你成世人收過最正嘅聖誕禮物係咩呀？\n",
       "...       ...                                             ...\n",
       "9592864   kzj            Au zikoi monoodo do kobohingkaangan.\n",
       "9592869   kzj                  Onu kozo di kinaantakan doiti?\n",
       "9592872   kzj     Ouhan no do momongo do kobohingkaangan dii.\n",
       "9592874   kzj        Notipu no o kolar om minogidu no i tasu.\n",
       "9592877   kzj  Nakabalajal zou do boos Onggilis di duvo toun.\n",
       "\n",
       "[433682 rows x 2 columns]"
      ]
     },
     "execution_count": 34,
     "metadata": {},
     "output_type": "execute_result"
    }
   ],
   "source": [
    "main_df"
   ]
  },
  {
   "cell_type": "code",
   "execution_count": 35,
   "id": "5250e311-17d0-4c69-bf83-6ba859dc63d4",
   "metadata": {},
   "outputs": [
    {
     "data": {
      "text/plain": [
       "ina    6000\n",
       "srp    6000\n",
       "yue    6000\n",
       "epo    6000\n",
       "heb    6000\n",
       "       ... \n",
       "cor    3925\n",
       "kzj    3685\n",
       "kaz    3685\n",
       "est    3613\n",
       "tha    3495\n",
       "Name: Label, Length: 77, dtype: int64"
      ]
     },
     "execution_count": 35,
     "metadata": {},
     "output_type": "execute_result"
    }
   ],
   "source": [
    "main_df.Label.value_counts()"
   ]
  },
  {
   "cell_type": "code",
   "execution_count": 37,
   "id": "4a0e0239-5873-4949-8cc5-6853f0b2c5b6",
   "metadata": {},
   "outputs": [
    {
     "data": {
      "text/plain": [
       "array(['yue', 'eus', 'yid', 'tuk', 'bre', 'ido', 'ile', 'kor', 'uig',\n",
       "       'cat', 'kmr', 'isl', 'bel', 'hin', 'slk', 'tat', 'ind', 'nob',\n",
       "       'jbo', 'tgl', 'lfn', 'nds', 'tlh', 'vie', 'pes', 'bul', 'ron',\n",
       "       'ina', 'ell', 'ara', 'lat', 'swe', 'toki', 'srp', 'dan', 'ces',\n",
       "       'lit', 'mar', 'cmn', 'mkd', 'pol', 'fin', 'nld', 'ukr', 'heb',\n",
       "       'jpn', 'hun', 'spa', 'ber', 'por', 'fra', 'deu', 'kab', 'epo',\n",
       "       'tur', 'ita', 'rus', 'eng', 'wuu', 'zsm', 'est', 'kat', 'afr', nan,\n",
       "       'kaz', 'ben', 'hrv', 'tha', 'glg', 'vol', 'oci', 'aze', 'cor',\n",
       "       'avk', 'mhr', 'kzj', 'run', 'gos'], dtype=object)"
      ]
     },
     "execution_count": 37,
     "metadata": {},
     "output_type": "execute_result"
    }
   ],
   "source": [
    "main_df.Label.unique()\n"
   ]
  },
  {
   "cell_type": "code",
   "execution_count": 53,
   "id": "07fdafde-d9de-4e4b-b31f-fd45924e9379",
   "metadata": {},
   "outputs": [
    {
     "data": {
      "text/html": [
       "<div>\n",
       "<style scoped>\n",
       "    .dataframe tbody tr th:only-of-type {\n",
       "        vertical-align: middle;\n",
       "    }\n",
       "\n",
       "    .dataframe tbody tr th {\n",
       "        vertical-align: top;\n",
       "    }\n",
       "\n",
       "    .dataframe thead th {\n",
       "        text-align: right;\n",
       "    }\n",
       "</style>\n",
       "<table border=\"1\" class=\"dataframe\">\n",
       "  <thead>\n",
       "    <tr style=\"text-align: right;\">\n",
       "      <th></th>\n",
       "      <th>Label</th>\n",
       "      <th>Text</th>\n",
       "    </tr>\n",
       "  </thead>\n",
       "  <tbody>\n",
       "    <tr>\n",
       "      <th>4199622</th>\n",
       "      <td>mar</td>\n",
       "      <td>मी उद्या माझी खोली साफ करेन.</td>\n",
       "    </tr>\n",
       "    <tr>\n",
       "      <th>9547067</th>\n",
       "      <td>mar</td>\n",
       "      <td>मला वाटतं यानंतर तू आहेस.</td>\n",
       "    </tr>\n",
       "    <tr>\n",
       "      <th>2536326</th>\n",
       "      <td>mar</td>\n",
       "      <td>पुढच्या रविवारी तू काय करतोयस?</td>\n",
       "    </tr>\n",
       "    <tr>\n",
       "      <th>6576029</th>\n",
       "      <td>mar</td>\n",
       "      <td>पाडवू नकोस.</td>\n",
       "    </tr>\n",
       "    <tr>\n",
       "      <th>4903464</th>\n",
       "      <td>mar</td>\n",
       "      <td>एकेकाळी या गावात एक वयस्कर माणूस होता.</td>\n",
       "    </tr>\n",
       "    <tr>\n",
       "      <th>...</th>\n",
       "      <td>...</td>\n",
       "      <td>...</td>\n",
       "    </tr>\n",
       "    <tr>\n",
       "      <th>8761985</th>\n",
       "      <td>mar</td>\n",
       "      <td>सामी इजिप्तमध्ये एका छोट्या शहरात राहायचा.</td>\n",
       "    </tr>\n",
       "    <tr>\n",
       "      <th>2244408</th>\n",
       "      <td>mar</td>\n",
       "      <td>तो तुझ्या भावासारखा दिसतो.</td>\n",
       "    </tr>\n",
       "    <tr>\n",
       "      <th>2381995</th>\n",
       "      <td>mar</td>\n",
       "      <td>कोणाचा खूप झाला?</td>\n",
       "    </tr>\n",
       "    <tr>\n",
       "      <th>9488410</th>\n",
       "      <td>mar</td>\n",
       "      <td>तुला तुझं वचन आठवत नाही का?</td>\n",
       "    </tr>\n",
       "    <tr>\n",
       "      <th>7556622</th>\n",
       "      <td>mar</td>\n",
       "      <td>मेरीला इतका राग आला होता की तिला बोलायलाच होत ...</td>\n",
       "    </tr>\n",
       "  </tbody>\n",
       "</table>\n",
       "<p>6000 rows × 2 columns</p>\n",
       "</div>"
      ],
      "text/plain": [
       "        Label                                               Text\n",
       "4199622   mar                       मी उद्या माझी खोली साफ करेन.\n",
       "9547067   mar                          मला वाटतं यानंतर तू आहेस.\n",
       "2536326   mar                     पुढच्या रविवारी तू काय करतोयस?\n",
       "6576029   mar                                        पाडवू नकोस.\n",
       "4903464   mar             एकेकाळी या गावात एक वयस्कर माणूस होता.\n",
       "...       ...                                                ...\n",
       "8761985   mar         सामी इजिप्तमध्ये एका छोट्या शहरात राहायचा.\n",
       "2244408   mar                         तो तुझ्या भावासारखा दिसतो.\n",
       "2381995   mar                                   कोणाचा खूप झाला?\n",
       "9488410   mar                        तुला तुझं वचन आठवत नाही का?\n",
       "7556622   mar  मेरीला इतका राग आला होता की तिला बोलायलाच होत ...\n",
       "\n",
       "[6000 rows x 2 columns]"
      ]
     },
     "execution_count": 53,
     "metadata": {},
     "output_type": "execute_result"
    }
   ],
   "source": [
    "main_df.where(main_df.Label == 'mar').dropna()"
   ]
  },
  {
   "cell_type": "markdown",
   "id": "85f8f67d-87af-4b62-9d6a-afc9b96790e6",
   "metadata": {},
   "source": [
    "## Save preprocessed data"
   ]
  },
  {
   "cell_type": "code",
   "execution_count": 46,
   "id": "187dd23f-8f38-45c6-960d-e495993e7c2e",
   "metadata": {},
   "outputs": [],
   "source": [
    "main_df.to_csv('data/prerpo.csv')"
   ]
  },
  {
   "cell_type": "markdown",
   "id": "b50d08a9-653d-43bf-9b0f-cf9424092ede",
   "metadata": {},
   "source": [
    "### oajdf\n"
   ]
  },
  {
   "cell_type": "code",
   "execution_count": 4,
   "id": "bbb78495-345a-43db-b6ad-d4f2dbacceec",
   "metadata": {},
   "outputs": [],
   "source": [
    "train_df = pd.read_csv('data/dataset.csv')"
   ]
  },
  {
   "cell_type": "code",
   "execution_count": 6,
   "id": "4fd4f930-a503-4298-a4d7-541e882c8ff3",
   "metadata": {},
   "outputs": [
    {
     "data": {
      "text/html": [
       "<div>\n",
       "<style scoped>\n",
       "    .dataframe tbody tr th:only-of-type {\n",
       "        vertical-align: middle;\n",
       "    }\n",
       "\n",
       "    .dataframe tbody tr th {\n",
       "        vertical-align: top;\n",
       "    }\n",
       "\n",
       "    .dataframe thead th {\n",
       "        text-align: right;\n",
       "    }\n",
       "</style>\n",
       "<table border=\"1\" class=\"dataframe\">\n",
       "  <thead>\n",
       "    <tr style=\"text-align: right;\">\n",
       "      <th></th>\n",
       "      <th>Text</th>\n",
       "      <th>language</th>\n",
       "    </tr>\n",
       "  </thead>\n",
       "  <tbody>\n",
       "    <tr>\n",
       "      <th>0</th>\n",
       "      <td>klement gottwaldi surnukeha palsameeriti ning ...</td>\n",
       "      <td>Estonian</td>\n",
       "    </tr>\n",
       "    <tr>\n",
       "      <th>1</th>\n",
       "      <td>sebes joseph pereira thomas  på eng the jesuit...</td>\n",
       "      <td>Swedish</td>\n",
       "    </tr>\n",
       "    <tr>\n",
       "      <th>2</th>\n",
       "      <td>ถนนเจริญกรุง อักษรโรมัน thanon charoen krung เ...</td>\n",
       "      <td>Thai</td>\n",
       "    </tr>\n",
       "    <tr>\n",
       "      <th>3</th>\n",
       "      <td>விசாகப்பட்டினம் தமிழ்ச்சங்கத்தை இந்துப் பத்திர...</td>\n",
       "      <td>Tamil</td>\n",
       "    </tr>\n",
       "    <tr>\n",
       "      <th>4</th>\n",
       "      <td>de spons behoort tot het geslacht haliclona en...</td>\n",
       "      <td>Dutch</td>\n",
       "    </tr>\n",
       "    <tr>\n",
       "      <th>...</th>\n",
       "      <td>...</td>\n",
       "      <td>...</td>\n",
       "    </tr>\n",
       "    <tr>\n",
       "      <th>21995</th>\n",
       "      <td>hors du terrain les années  et  sont des année...</td>\n",
       "      <td>French</td>\n",
       "    </tr>\n",
       "    <tr>\n",
       "      <th>21996</th>\n",
       "      <td>ใน พศ  หลักจากที่เสด็จประพาสแหลมมลายู ชวา อินเ...</td>\n",
       "      <td>Thai</td>\n",
       "    </tr>\n",
       "    <tr>\n",
       "      <th>21997</th>\n",
       "      <td>con motivo de la celebración del septuagésimoq...</td>\n",
       "      <td>Spanish</td>\n",
       "    </tr>\n",
       "    <tr>\n",
       "      <th>21998</th>\n",
       "      <td>年月，當時還只有歲的她在美國出道，以mai-k名義推出首張英文《baby i like》，由...</td>\n",
       "      <td>Chinese</td>\n",
       "    </tr>\n",
       "    <tr>\n",
       "      <th>21999</th>\n",
       "      <td>aprilie sonda spațială messenger a nasa și-a ...</td>\n",
       "      <td>Romanian</td>\n",
       "    </tr>\n",
       "  </tbody>\n",
       "</table>\n",
       "<p>22000 rows × 2 columns</p>\n",
       "</div>"
      ],
      "text/plain": [
       "                                                    Text  language\n",
       "0      klement gottwaldi surnukeha palsameeriti ning ...  Estonian\n",
       "1      sebes joseph pereira thomas  på eng the jesuit...   Swedish\n",
       "2      ถนนเจริญกรุง อักษรโรมัน thanon charoen krung เ...      Thai\n",
       "3      விசாகப்பட்டினம் தமிழ்ச்சங்கத்தை இந்துப் பத்திர...     Tamil\n",
       "4      de spons behoort tot het geslacht haliclona en...     Dutch\n",
       "...                                                  ...       ...\n",
       "21995  hors du terrain les années  et  sont des année...    French\n",
       "21996  ใน พศ  หลักจากที่เสด็จประพาสแหลมมลายู ชวา อินเ...      Thai\n",
       "21997  con motivo de la celebración del septuagésimoq...   Spanish\n",
       "21998  年月，當時還只有歲的她在美國出道，以mai-k名義推出首張英文《baby i like》，由...   Chinese\n",
       "21999   aprilie sonda spațială messenger a nasa și-a ...  Romanian\n",
       "\n",
       "[22000 rows x 2 columns]"
      ]
     },
     "execution_count": 6,
     "metadata": {},
     "output_type": "execute_result"
    }
   ],
   "source": [
    "train_df"
   ]
  },
  {
   "cell_type": "code",
   "execution_count": 8,
   "id": "2181814b-c6b9-45ad-8831-ce95e6682d76",
   "metadata": {},
   "outputs": [
    {
     "data": {
      "text/plain": [
       "Latin         1000\n",
       "Dutch         1000\n",
       "Tamil         1000\n",
       "Arabic        1000\n",
       "Thai          1000\n",
       "Spanish       1000\n",
       "Estonian      1000\n",
       "Pushto        1000\n",
       "Romanian      1000\n",
       "Hindi         1000\n",
       "Urdu          1000\n",
       "Russian       1000\n",
       "Turkish       1000\n",
       "Korean        1000\n",
       "English       1000\n",
       "Chinese       1000\n",
       "Portugese     1000\n",
       "Indonesian    1000\n",
       "Persian       1000\n",
       "Swedish       1000\n",
       "French        1000\n",
       "Japanese      1000\n",
       "Name: language, dtype: int64"
      ]
     },
     "execution_count": 8,
     "metadata": {},
     "output_type": "execute_result"
    }
   ],
   "source": [
    "train_df.language.value_counts()"
   ]
  },
  {
   "cell_type": "code",
   "execution_count": 10,
   "id": "b560eb65-8a58-4fa2-a383-69470f455755",
   "metadata": {},
   "outputs": [
    {
     "data": {
      "text/html": [
       "<div>\n",
       "<style scoped>\n",
       "    .dataframe tbody tr th:only-of-type {\n",
       "        vertical-align: middle;\n",
       "    }\n",
       "\n",
       "    .dataframe tbody tr th {\n",
       "        vertical-align: top;\n",
       "    }\n",
       "\n",
       "    .dataframe thead th {\n",
       "        text-align: right;\n",
       "    }\n",
       "</style>\n",
       "<table border=\"1\" class=\"dataframe\">\n",
       "  <thead>\n",
       "    <tr style=\"text-align: right;\">\n",
       "      <th></th>\n",
       "      <th>Text</th>\n",
       "      <th>Language</th>\n",
       "    </tr>\n",
       "  </thead>\n",
       "  <tbody>\n",
       "    <tr>\n",
       "      <th>0</th>\n",
       "      <td>Nature, in the broadest sense, is the natural...</td>\n",
       "      <td>English</td>\n",
       "    </tr>\n",
       "    <tr>\n",
       "      <th>1</th>\n",
       "      <td>\"Nature\" can refer to the phenomena of the phy...</td>\n",
       "      <td>English</td>\n",
       "    </tr>\n",
       "    <tr>\n",
       "      <th>2</th>\n",
       "      <td>The study of nature is a large, if not the onl...</td>\n",
       "      <td>English</td>\n",
       "    </tr>\n",
       "    <tr>\n",
       "      <th>3</th>\n",
       "      <td>Although humans are part of nature, human acti...</td>\n",
       "      <td>English</td>\n",
       "    </tr>\n",
       "    <tr>\n",
       "      <th>4</th>\n",
       "      <td>[1] The word nature is borrowed from the Old F...</td>\n",
       "      <td>English</td>\n",
       "    </tr>\n",
       "    <tr>\n",
       "      <th>...</th>\n",
       "      <td>...</td>\n",
       "      <td>...</td>\n",
       "    </tr>\n",
       "    <tr>\n",
       "      <th>10332</th>\n",
       "      <td>ನಿಮ್ಮ ತಪ್ಪು ಏನು ಬಂದಿದೆಯೆಂದರೆ ಆ ದಿನದಿಂದ ನಿಮಗೆ ಒ...</td>\n",
       "      <td>Kannada</td>\n",
       "    </tr>\n",
       "    <tr>\n",
       "      <th>10333</th>\n",
       "      <td>ನಾರ್ಸಿಸಾ ತಾನು ಮೊದಲಿಗೆ ಹೆಣಗಾಡುತ್ತಿದ್ದ ಮಾರ್ಗಗಳನ್...</td>\n",
       "      <td>Kannada</td>\n",
       "    </tr>\n",
       "    <tr>\n",
       "      <th>10334</th>\n",
       "      <td>ಹೇಗೆ ' ನಾರ್ಸಿಸಿಸಮ್ ಈಗ ಮರಿಯನ್ ಅವರಿಗೆ ಸಂಭವಿಸಿದ ಎ...</td>\n",
       "      <td>Kannada</td>\n",
       "    </tr>\n",
       "    <tr>\n",
       "      <th>10335</th>\n",
       "      <td>ಅವಳು ಈಗ ಹೆಚ್ಚು ಚಿನ್ನದ ಬ್ರೆಡ್ ಬಯಸುವುದಿಲ್ಲ ಎಂದು ...</td>\n",
       "      <td>Kannada</td>\n",
       "    </tr>\n",
       "    <tr>\n",
       "      <th>10336</th>\n",
       "      <td>ಟೆರ್ರಿ ನೀವು ನಿಜವಾಗಿಯೂ ಆ ದೇವದೂತನಂತೆ ಸ್ವಲ್ಪ ಕಾಣು...</td>\n",
       "      <td>Kannada</td>\n",
       "    </tr>\n",
       "  </tbody>\n",
       "</table>\n",
       "<p>10337 rows × 2 columns</p>\n",
       "</div>"
      ],
      "text/plain": [
       "                                                    Text Language\n",
       "0       Nature, in the broadest sense, is the natural...  English\n",
       "1      \"Nature\" can refer to the phenomena of the phy...  English\n",
       "2      The study of nature is a large, if not the onl...  English\n",
       "3      Although humans are part of nature, human acti...  English\n",
       "4      [1] The word nature is borrowed from the Old F...  English\n",
       "...                                                  ...      ...\n",
       "10332  ನಿಮ್ಮ ತಪ್ಪು ಏನು ಬಂದಿದೆಯೆಂದರೆ ಆ ದಿನದಿಂದ ನಿಮಗೆ ಒ...  Kannada\n",
       "10333  ನಾರ್ಸಿಸಾ ತಾನು ಮೊದಲಿಗೆ ಹೆಣಗಾಡುತ್ತಿದ್ದ ಮಾರ್ಗಗಳನ್...  Kannada\n",
       "10334  ಹೇಗೆ ' ನಾರ್ಸಿಸಿಸಮ್ ಈಗ ಮರಿಯನ್ ಅವರಿಗೆ ಸಂಭವಿಸಿದ ಎ...  Kannada\n",
       "10335  ಅವಳು ಈಗ ಹೆಚ್ಚು ಚಿನ್ನದ ಬ್ರೆಡ್ ಬಯಸುವುದಿಲ್ಲ ಎಂದು ...  Kannada\n",
       "10336  ಟೆರ್ರಿ ನೀವು ನಿಜವಾಗಿಯೂ ಆ ದೇವದೂತನಂತೆ ಸ್ವಲ್ಪ ಕಾಣು...  Kannada\n",
       "\n",
       "[10337 rows x 2 columns]"
      ]
     },
     "execution_count": 10,
     "metadata": {},
     "output_type": "execute_result"
    }
   ],
   "source": [
    "train_df2 =  pd.read_csv('data/Language_Detection.csv')\n",
    "train_df2"
   ]
  },
  {
   "cell_type": "code",
   "execution_count": 12,
   "id": "76965882-d7cc-40a5-a9eb-ed01e6308b53",
   "metadata": {},
   "outputs": [
    {
     "data": {
      "text/plain": [
       "English       1385\n",
       "French        1014\n",
       "Spanish        819\n",
       "Portugeese     739\n",
       "Italian        698\n",
       "Russian        692\n",
       "Sweedish       676\n",
       "Malayalam      594\n",
       "Dutch          546\n",
       "Arabic         536\n",
       "Turkish        474\n",
       "German         470\n",
       "Tamil          469\n",
       "Danish         428\n",
       "Kannada        369\n",
       "Greek          365\n",
       "Hindi           63\n",
       "Name: Language, dtype: int64"
      ]
     },
     "execution_count": 12,
     "metadata": {},
     "output_type": "execute_result"
    }
   ],
   "source": [
    "train_df2.Language.value_counts()"
   ]
  },
  {
   "cell_type": "code",
   "execution_count": 26,
   "id": "6e9a992c-e099-41b8-bf24-728503117872",
   "metadata": {},
   "outputs": [
    {
     "data": {
      "text/html": [
       "<div>\n",
       "<style scoped>\n",
       "    .dataframe tbody tr th:only-of-type {\n",
       "        vertical-align: middle;\n",
       "    }\n",
       "\n",
       "    .dataframe tbody tr th {\n",
       "        vertical-align: top;\n",
       "    }\n",
       "\n",
       "    .dataframe thead th {\n",
       "        text-align: right;\n",
       "    }\n",
       "</style>\n",
       "<table border=\"1\" class=\"dataframe\">\n",
       "  <thead>\n",
       "    <tr style=\"text-align: right;\">\n",
       "      <th></th>\n",
       "      <th>Text</th>\n",
       "      <th>language</th>\n",
       "    </tr>\n",
       "  </thead>\n",
       "  <tbody>\n",
       "    <tr>\n",
       "      <th>3</th>\n",
       "      <td>விசாகப்பட்டினம் தமிழ்ச்சங்கத்தை இந்துப் பத்திர...</td>\n",
       "      <td>Tamil</td>\n",
       "    </tr>\n",
       "    <tr>\n",
       "      <th>20</th>\n",
       "      <td>ஆங்கில எழுத்துக்களை மட்டும் அல்லாமல் பன்மொழி எ...</td>\n",
       "      <td>Tamil</td>\n",
       "    </tr>\n",
       "    <tr>\n",
       "      <th>62</th>\n",
       "      <td>இரண்டு மீட்டர்களும் ஒரு அரை மீட்டரும் இணைந்த ந...</td>\n",
       "      <td>Tamil</td>\n",
       "    </tr>\n",
       "    <tr>\n",
       "      <th>72</th>\n",
       "      <td>இந்த இரண்டு வகையிலும் வரையறுக்கப்பட்ட பொறுப்பு...</td>\n",
       "      <td>Tamil</td>\n",
       "    </tr>\n",
       "    <tr>\n",
       "      <th>93</th>\n",
       "      <td>பெருந்தோட்டம் என்பது தொலைதூரச் சந்தைகளுக்காகப்...</td>\n",
       "      <td>Tamil</td>\n",
       "    </tr>\n",
       "    <tr>\n",
       "      <th>...</th>\n",
       "      <td>...</td>\n",
       "      <td>...</td>\n",
       "    </tr>\n",
       "    <tr>\n",
       "      <th>21887</th>\n",
       "      <td>சேக் சயத் மசூதி ஐக்கிய அரபு அமீரகத்தின் தலைநகர...</td>\n",
       "      <td>Tamil</td>\n",
       "    </tr>\n",
       "    <tr>\n",
       "      <th>21889</th>\n",
       "      <td>அடியார்களுக்கு அன்னமிடுவதை வழக்கமாக கொண்டிருந்...</td>\n",
       "      <td>Tamil</td>\n",
       "    </tr>\n",
       "    <tr>\n",
       "      <th>21892</th>\n",
       "      <td>களர் சம்பா kalar samba என்று அழைக்கப்படும் இந்...</td>\n",
       "      <td>Tamil</td>\n",
       "    </tr>\n",
       "    <tr>\n",
       "      <th>21965</th>\n",
       "      <td>யூலரின் முறை முதல் வரிசையாகும் உறுதியான தன்மை ...</td>\n",
       "      <td>Tamil</td>\n",
       "    </tr>\n",
       "    <tr>\n",
       "      <th>21994</th>\n",
       "      <td>அனாதரவற்ற சிறுவர்களை அரவணைக்கும் முகமாக சிறுவர...</td>\n",
       "      <td>Tamil</td>\n",
       "    </tr>\n",
       "  </tbody>\n",
       "</table>\n",
       "<p>1000 rows × 2 columns</p>\n",
       "</div>"
      ],
      "text/plain": [
       "                                                    Text language\n",
       "3      விசாகப்பட்டினம் தமிழ்ச்சங்கத்தை இந்துப் பத்திர...    Tamil\n",
       "20     ஆங்கில எழுத்துக்களை மட்டும் அல்லாமல் பன்மொழி எ...    Tamil\n",
       "62     இரண்டு மீட்டர்களும் ஒரு அரை மீட்டரும் இணைந்த ந...    Tamil\n",
       "72     இந்த இரண்டு வகையிலும் வரையறுக்கப்பட்ட பொறுப்பு...    Tamil\n",
       "93     பெருந்தோட்டம் என்பது தொலைதூரச் சந்தைகளுக்காகப்...    Tamil\n",
       "...                                                  ...      ...\n",
       "21887  சேக் சயத் மசூதி ஐக்கிய அரபு அமீரகத்தின் தலைநகர...    Tamil\n",
       "21889  அடியார்களுக்கு அன்னமிடுவதை வழக்கமாக கொண்டிருந்...    Tamil\n",
       "21892  களர் சம்பா kalar samba என்று அழைக்கப்படும் இந்...    Tamil\n",
       "21965  யூலரின் முறை முதல் வரிசையாகும் உறுதியான தன்மை ...    Tamil\n",
       "21994  அனாதரவற்ற சிறுவர்களை அரவணைக்கும் முகமாக சிறுவர...    Tamil\n",
       "\n",
       "[1000 rows x 2 columns]"
      ]
     },
     "execution_count": 26,
     "metadata": {},
     "output_type": "execute_result"
    }
   ],
   "source": [
    "tam_df = train_df.loc[train_df.language == 'Tamil']\n",
    "tam_df"
   ]
  },
  {
   "cell_type": "code",
   "execution_count": 27,
   "id": "1cba0a07-d1aa-4a9c-bb9a-edc3b84a6474",
   "metadata": {},
   "outputs": [],
   "source": [
    "tam_df = pd.concat([train_df2.loc[train_df2.Language == 'Tamil'], tam_df])"
   ]
  },
  {
   "cell_type": "code",
   "execution_count": 34,
   "id": "9539aac0-6068-469c-80d2-1eeb6e7a7086",
   "metadata": {},
   "outputs": [
    {
     "data": {
      "text/html": [
       "<div>\n",
       "<style scoped>\n",
       "    .dataframe tbody tr th:only-of-type {\n",
       "        vertical-align: middle;\n",
       "    }\n",
       "\n",
       "    .dataframe tbody tr th {\n",
       "        vertical-align: top;\n",
       "    }\n",
       "\n",
       "    .dataframe thead th {\n",
       "        text-align: right;\n",
       "    }\n",
       "</style>\n",
       "<table border=\"1\" class=\"dataframe\">\n",
       "  <thead>\n",
       "    <tr style=\"text-align: right;\">\n",
       "      <th></th>\n",
       "      <th>Text</th>\n",
       "      <th>Language</th>\n",
       "      <th>language</th>\n",
       "    </tr>\n",
       "  </thead>\n",
       "  <tbody>\n",
       "    <tr>\n",
       "      <th>2042</th>\n",
       "      <td>விக்கிப்பீடியா (Wikipedia; /ˌwɪkɪˈpiːdiə/ (கேட...</td>\n",
       "      <td>Tamil</td>\n",
       "      <td>NaN</td>\n",
       "    </tr>\n",
       "    <tr>\n",
       "      <th>2043</th>\n",
       "      <td>தமிழ் விக்கிப்பீடியாவின் 1,00,000க்கும் மேற்பட...</td>\n",
       "      <td>Tamil</td>\n",
       "      <td>NaN</td>\n",
       "    </tr>\n",
       "    <tr>\n",
       "      <th>2044</th>\n",
       "      <td>பெரும்பாலும் இதன் எல்லாக் கட்டுரைகளும், இதனைப்...</td>\n",
       "      <td>Tamil</td>\n",
       "      <td>NaN</td>\n",
       "    </tr>\n",
       "    <tr>\n",
       "      <th>2045</th>\n",
       "      <td>[6] மேலும் இது கிட்டத்தட்ட 100,000 முனைப்பான ப...</td>\n",
       "      <td>Tamil</td>\n",
       "      <td>NaN</td>\n",
       "    </tr>\n",
       "    <tr>\n",
       "      <th>2046</th>\n",
       "      <td>[7][8] சனவரி 2021 வரையில், விக்கிப்பீடியா 285 ...</td>\n",
       "      <td>Tamil</td>\n",
       "      <td>NaN</td>\n",
       "    </tr>\n",
       "  </tbody>\n",
       "</table>\n",
       "</div>"
      ],
      "text/plain": [
       "                                                   Text Language language\n",
       "2042  விக்கிப்பீடியா (Wikipedia; /ˌwɪkɪˈpiːdiə/ (கேட...    Tamil      NaN\n",
       "2043  தமிழ் விக்கிப்பீடியாவின் 1,00,000க்கும் மேற்பட...    Tamil      NaN\n",
       "2044  பெரும்பாலும் இதன் எல்லாக் கட்டுரைகளும், இதனைப்...    Tamil      NaN\n",
       "2045  [6] மேலும் இது கிட்டத்தட்ட 100,000 முனைப்பான ப...    Tamil      NaN\n",
       "2046  [7][8] சனவரி 2021 வரையில், விக்கிப்பீடியா 285 ...    Tamil      NaN"
      ]
     },
     "execution_count": 34,
     "metadata": {},
     "output_type": "execute_result"
    }
   ],
   "source": [
    "tam_df.head()"
   ]
  },
  {
   "cell_type": "code",
   "execution_count": 38,
   "id": "9302972a-8766-46bb-b99e-54ef1c452b20",
   "metadata": {},
   "outputs": [],
   "source": [
    "tam_df.drop(['Language','language'], axis=1, inplace=True)"
   ]
  },
  {
   "cell_type": "code",
   "execution_count": 39,
   "id": "20fde8e7-3ac2-434d-8fa3-50d7e9b5e8f7",
   "metadata": {},
   "outputs": [],
   "source": [
    "tam_df['Label'] = 'tam'"
   ]
  },
  {
   "cell_type": "code",
   "execution_count": 40,
   "id": "6ad9c775-afce-489b-8007-70b5f5ad4f8a",
   "metadata": {},
   "outputs": [
    {
     "data": {
      "text/html": [
       "<div>\n",
       "<style scoped>\n",
       "    .dataframe tbody tr th:only-of-type {\n",
       "        vertical-align: middle;\n",
       "    }\n",
       "\n",
       "    .dataframe tbody tr th {\n",
       "        vertical-align: top;\n",
       "    }\n",
       "\n",
       "    .dataframe thead th {\n",
       "        text-align: right;\n",
       "    }\n",
       "</style>\n",
       "<table border=\"1\" class=\"dataframe\">\n",
       "  <thead>\n",
       "    <tr style=\"text-align: right;\">\n",
       "      <th></th>\n",
       "      <th>Text</th>\n",
       "      <th>Label</th>\n",
       "    </tr>\n",
       "  </thead>\n",
       "  <tbody>\n",
       "    <tr>\n",
       "      <th>2042</th>\n",
       "      <td>விக்கிப்பீடியா (Wikipedia; /ˌwɪkɪˈpiːdiə/ (கேட...</td>\n",
       "      <td>tam</td>\n",
       "    </tr>\n",
       "    <tr>\n",
       "      <th>2043</th>\n",
       "      <td>தமிழ் விக்கிப்பீடியாவின் 1,00,000க்கும் மேற்பட...</td>\n",
       "      <td>tam</td>\n",
       "    </tr>\n",
       "    <tr>\n",
       "      <th>2044</th>\n",
       "      <td>பெரும்பாலும் இதன் எல்லாக் கட்டுரைகளும், இதனைப்...</td>\n",
       "      <td>tam</td>\n",
       "    </tr>\n",
       "    <tr>\n",
       "      <th>2045</th>\n",
       "      <td>[6] மேலும் இது கிட்டத்தட்ட 100,000 முனைப்பான ப...</td>\n",
       "      <td>tam</td>\n",
       "    </tr>\n",
       "    <tr>\n",
       "      <th>2046</th>\n",
       "      <td>[7][8] சனவரி 2021 வரையில், விக்கிப்பீடியா 285 ...</td>\n",
       "      <td>tam</td>\n",
       "    </tr>\n",
       "    <tr>\n",
       "      <th>...</th>\n",
       "      <td>...</td>\n",
       "      <td>...</td>\n",
       "    </tr>\n",
       "    <tr>\n",
       "      <th>21887</th>\n",
       "      <td>சேக் சயத் மசூதி ஐக்கிய அரபு அமீரகத்தின் தலைநகர...</td>\n",
       "      <td>tam</td>\n",
       "    </tr>\n",
       "    <tr>\n",
       "      <th>21889</th>\n",
       "      <td>அடியார்களுக்கு அன்னமிடுவதை வழக்கமாக கொண்டிருந்...</td>\n",
       "      <td>tam</td>\n",
       "    </tr>\n",
       "    <tr>\n",
       "      <th>21892</th>\n",
       "      <td>களர் சம்பா kalar samba என்று அழைக்கப்படும் இந்...</td>\n",
       "      <td>tam</td>\n",
       "    </tr>\n",
       "    <tr>\n",
       "      <th>21965</th>\n",
       "      <td>யூலரின் முறை முதல் வரிசையாகும் உறுதியான தன்மை ...</td>\n",
       "      <td>tam</td>\n",
       "    </tr>\n",
       "    <tr>\n",
       "      <th>21994</th>\n",
       "      <td>அனாதரவற்ற சிறுவர்களை அரவணைக்கும் முகமாக சிறுவர...</td>\n",
       "      <td>tam</td>\n",
       "    </tr>\n",
       "  </tbody>\n",
       "</table>\n",
       "<p>1469 rows × 2 columns</p>\n",
       "</div>"
      ],
      "text/plain": [
       "                                                    Text Label\n",
       "2042   விக்கிப்பீடியா (Wikipedia; /ˌwɪkɪˈpiːdiə/ (கேட...   tam\n",
       "2043   தமிழ் விக்கிப்பீடியாவின் 1,00,000க்கும் மேற்பட...   tam\n",
       "2044   பெரும்பாலும் இதன் எல்லாக் கட்டுரைகளும், இதனைப்...   tam\n",
       "2045   [6] மேலும் இது கிட்டத்தட்ட 100,000 முனைப்பான ப...   tam\n",
       "2046   [7][8] சனவரி 2021 வரையில், விக்கிப்பீடியா 285 ...   tam\n",
       "...                                                  ...   ...\n",
       "21887  சேக் சயத் மசூதி ஐக்கிய அரபு அமீரகத்தின் தலைநகர...   tam\n",
       "21889  அடியார்களுக்கு அன்னமிடுவதை வழக்கமாக கொண்டிருந்...   tam\n",
       "21892  களர் சம்பா kalar samba என்று அழைக்கப்படும் இந்...   tam\n",
       "21965  யூலரின் முறை முதல் வரிசையாகும் உறுதியான தன்மை ...   tam\n",
       "21994  அனாதரவற்ற சிறுவர்களை அரவணைக்கும் முகமாக சிறுவர...   tam\n",
       "\n",
       "[1469 rows x 2 columns]"
      ]
     },
     "execution_count": 40,
     "metadata": {},
     "output_type": "execute_result"
    }
   ],
   "source": [
    "tam_df"
   ]
  },
  {
   "cell_type": "code",
   "execution_count": 29,
   "id": "2f9f150e-30a2-4279-b423-bafc6eb73c84",
   "metadata": {},
   "outputs": [],
   "source": [
    "kan_df = train_df2.loc[train_df2.Language == 'Kannada']"
   ]
  },
  {
   "cell_type": "code",
   "execution_count": 42,
   "id": "e84a35dc-4abf-4211-bbbe-be82badf9968",
   "metadata": {},
   "outputs": [
    {
     "name": "stderr",
     "output_type": "stream",
     "text": [
      "D:\\Machine_learning\\Recurrent_Neural_Network\\Recurrent_Env\\lib\\site-packages\\pandas\\core\\frame.py:4308: SettingWithCopyWarning: \n",
      "A value is trying to be set on a copy of a slice from a DataFrame\n",
      "\n",
      "See the caveats in the documentation: https://pandas.pydata.org/pandas-docs/stable/user_guide/indexing.html#returning-a-view-versus-a-copy\n",
      "  return super().drop(\n"
     ]
    }
   ],
   "source": [
    "kan_df.drop(['Language'], axis=1, inplace=True)"
   ]
  },
  {
   "cell_type": "code",
   "execution_count": 44,
   "id": "5ed15d55-ee2e-4b05-b712-3941f23cf9b6",
   "metadata": {},
   "outputs": [
    {
     "name": "stderr",
     "output_type": "stream",
     "text": [
      "<ipython-input-44-14349371f59f>:1: SettingWithCopyWarning: \n",
      "A value is trying to be set on a copy of a slice from a DataFrame.\n",
      "Try using .loc[row_indexer,col_indexer] = value instead\n",
      "\n",
      "See the caveats in the documentation: https://pandas.pydata.org/pandas-docs/stable/user_guide/indexing.html#returning-a-view-versus-a-copy\n",
      "  kan_df['Label'] = 'kan'\n"
     ]
    }
   ],
   "source": [
    "kan_df['Label'] = 'kan'"
   ]
  },
  {
   "cell_type": "code",
   "execution_count": 45,
   "id": "d3759c2e-782a-469e-8c0f-8c995fa2a15f",
   "metadata": {},
   "outputs": [
    {
     "data": {
      "text/html": [
       "<div>\n",
       "<style scoped>\n",
       "    .dataframe tbody tr th:only-of-type {\n",
       "        vertical-align: middle;\n",
       "    }\n",
       "\n",
       "    .dataframe tbody tr th {\n",
       "        vertical-align: top;\n",
       "    }\n",
       "\n",
       "    .dataframe thead th {\n",
       "        text-align: right;\n",
       "    }\n",
       "</style>\n",
       "<table border=\"1\" class=\"dataframe\">\n",
       "  <thead>\n",
       "    <tr style=\"text-align: right;\">\n",
       "      <th></th>\n",
       "      <th>Text</th>\n",
       "      <th>Label</th>\n",
       "    </tr>\n",
       "  </thead>\n",
       "  <tbody>\n",
       "    <tr>\n",
       "      <th>9968</th>\n",
       "      <td>.ನಾವೆಲ್ಲರೂ ಇಂಗ್ಲಿಷ್ನಲ್ಲಿ ಹೆಚ್ಚು ನಿರರ್ಗಳವಾಗಲು ತ...</td>\n",
       "      <td>kan</td>\n",
       "    </tr>\n",
       "    <tr>\n",
       "      <th>9969</th>\n",
       "      <td>ಆದ್ದರಿಂದ ಇಂದು ನಾವು 10 ಹೊಸ ಸ್ಮಾರ್ಟ್ ಪದಗಳನ್ನು ಅವ...</td>\n",
       "      <td>kan</td>\n",
       "    </tr>\n",
       "    <tr>\n",
       "      <th>9970</th>\n",
       "      <td>ಮತ್ತು ಈ ವೀಡಿಯೊದಲ್ಲಿ ನಾನು ನಿಮಗೆ ದೈನಂದಿನ ಬಳಕೆಗಾಗ...</td>\n",
       "      <td>kan</td>\n",
       "    </tr>\n",
       "    <tr>\n",
       "      <th>9971</th>\n",
       "      <td>ನಾನು ನಿಜವಾಗಿಯೂ ನಿರರ್ಗಳವಾಗಿ ಸ್ಮಾರ್ಟ್ ವರ್ಡ್ ಸಂಖ್...</td>\n",
       "      <td>kan</td>\n",
       "    </tr>\n",
       "    <tr>\n",
       "      <th>9972</th>\n",
       "      <td>ಒಂದನ್ನು ಜೌಗು ಜೌಗು ಎಂದರೆ ಮುಳುಗಿಸುವುದು ಅಥವಾ ಪ್ರವ...</td>\n",
       "      <td>kan</td>\n",
       "    </tr>\n",
       "    <tr>\n",
       "      <th>...</th>\n",
       "      <td>...</td>\n",
       "      <td>...</td>\n",
       "    </tr>\n",
       "    <tr>\n",
       "      <th>10332</th>\n",
       "      <td>ನಿಮ್ಮ ತಪ್ಪು ಏನು ಬಂದಿದೆಯೆಂದರೆ ಆ ದಿನದಿಂದ ನಿಮಗೆ ಒ...</td>\n",
       "      <td>kan</td>\n",
       "    </tr>\n",
       "    <tr>\n",
       "      <th>10333</th>\n",
       "      <td>ನಾರ್ಸಿಸಾ ತಾನು ಮೊದಲಿಗೆ ಹೆಣಗಾಡುತ್ತಿದ್ದ ಮಾರ್ಗಗಳನ್...</td>\n",
       "      <td>kan</td>\n",
       "    </tr>\n",
       "    <tr>\n",
       "      <th>10334</th>\n",
       "      <td>ಹೇಗೆ ' ನಾರ್ಸಿಸಿಸಮ್ ಈಗ ಮರಿಯನ್ ಅವರಿಗೆ ಸಂಭವಿಸಿದ ಎ...</td>\n",
       "      <td>kan</td>\n",
       "    </tr>\n",
       "    <tr>\n",
       "      <th>10335</th>\n",
       "      <td>ಅವಳು ಈಗ ಹೆಚ್ಚು ಚಿನ್ನದ ಬ್ರೆಡ್ ಬಯಸುವುದಿಲ್ಲ ಎಂದು ...</td>\n",
       "      <td>kan</td>\n",
       "    </tr>\n",
       "    <tr>\n",
       "      <th>10336</th>\n",
       "      <td>ಟೆರ್ರಿ ನೀವು ನಿಜವಾಗಿಯೂ ಆ ದೇವದೂತನಂತೆ ಸ್ವಲ್ಪ ಕಾಣು...</td>\n",
       "      <td>kan</td>\n",
       "    </tr>\n",
       "  </tbody>\n",
       "</table>\n",
       "<p>369 rows × 2 columns</p>\n",
       "</div>"
      ],
      "text/plain": [
       "                                                    Text Label\n",
       "9968   .ನಾವೆಲ್ಲರೂ ಇಂಗ್ಲಿಷ್ನಲ್ಲಿ ಹೆಚ್ಚು ನಿರರ್ಗಳವಾಗಲು ತ...   kan\n",
       "9969   ಆದ್ದರಿಂದ ಇಂದು ನಾವು 10 ಹೊಸ ಸ್ಮಾರ್ಟ್ ಪದಗಳನ್ನು ಅವ...   kan\n",
       "9970   ಮತ್ತು ಈ ವೀಡಿಯೊದಲ್ಲಿ ನಾನು ನಿಮಗೆ ದೈನಂದಿನ ಬಳಕೆಗಾಗ...   kan\n",
       "9971   ನಾನು ನಿಜವಾಗಿಯೂ ನಿರರ್ಗಳವಾಗಿ ಸ್ಮಾರ್ಟ್ ವರ್ಡ್ ಸಂಖ್...   kan\n",
       "9972   ಒಂದನ್ನು ಜೌಗು ಜೌಗು ಎಂದರೆ ಮುಳುಗಿಸುವುದು ಅಥವಾ ಪ್ರವ...   kan\n",
       "...                                                  ...   ...\n",
       "10332  ನಿಮ್ಮ ತಪ್ಪು ಏನು ಬಂದಿದೆಯೆಂದರೆ ಆ ದಿನದಿಂದ ನಿಮಗೆ ಒ...   kan\n",
       "10333  ನಾರ್ಸಿಸಾ ತಾನು ಮೊದಲಿಗೆ ಹೆಣಗಾಡುತ್ತಿದ್ದ ಮಾರ್ಗಗಳನ್...   kan\n",
       "10334  ಹೇಗೆ ' ನಾರ್ಸಿಸಿಸಮ್ ಈಗ ಮರಿಯನ್ ಅವರಿಗೆ ಸಂಭವಿಸಿದ ಎ...   kan\n",
       "10335  ಅವಳು ಈಗ ಹೆಚ್ಚು ಚಿನ್ನದ ಬ್ರೆಡ್ ಬಯಸುವುದಿಲ್ಲ ಎಂದು ...   kan\n",
       "10336  ಟೆರ್ರಿ ನೀವು ನಿಜವಾಗಿಯೂ ಆ ದೇವದೂತನಂತೆ ಸ್ವಲ್ಪ ಕಾಣು...   kan\n",
       "\n",
       "[369 rows x 2 columns]"
      ]
     },
     "execution_count": 45,
     "metadata": {},
     "output_type": "execute_result"
    }
   ],
   "source": [
    "kan_df"
   ]
  },
  {
   "cell_type": "code",
   "execution_count": 46,
   "id": "484596a4-c2b8-455d-a2c2-5b06fb8a9da3",
   "metadata": {},
   "outputs": [],
   "source": [
    "tam_kan_df = pd.concat([tam_df, kan_df])"
   ]
  },
  {
   "cell_type": "code",
   "execution_count": 47,
   "id": "d2c58338-ea64-4e71-8efc-17d90a45e68b",
   "metadata": {},
   "outputs": [
    {
     "data": {
      "text/html": [
       "<div>\n",
       "<style scoped>\n",
       "    .dataframe tbody tr th:only-of-type {\n",
       "        vertical-align: middle;\n",
       "    }\n",
       "\n",
       "    .dataframe tbody tr th {\n",
       "        vertical-align: top;\n",
       "    }\n",
       "\n",
       "    .dataframe thead th {\n",
       "        text-align: right;\n",
       "    }\n",
       "</style>\n",
       "<table border=\"1\" class=\"dataframe\">\n",
       "  <thead>\n",
       "    <tr style=\"text-align: right;\">\n",
       "      <th></th>\n",
       "      <th>Text</th>\n",
       "      <th>Label</th>\n",
       "    </tr>\n",
       "  </thead>\n",
       "  <tbody>\n",
       "    <tr>\n",
       "      <th>2042</th>\n",
       "      <td>விக்கிப்பீடியா (Wikipedia; /ˌwɪkɪˈpiːdiə/ (கேட...</td>\n",
       "      <td>tam</td>\n",
       "    </tr>\n",
       "    <tr>\n",
       "      <th>2043</th>\n",
       "      <td>தமிழ் விக்கிப்பீடியாவின் 1,00,000க்கும் மேற்பட...</td>\n",
       "      <td>tam</td>\n",
       "    </tr>\n",
       "    <tr>\n",
       "      <th>2044</th>\n",
       "      <td>பெரும்பாலும் இதன் எல்லாக் கட்டுரைகளும், இதனைப்...</td>\n",
       "      <td>tam</td>\n",
       "    </tr>\n",
       "    <tr>\n",
       "      <th>2045</th>\n",
       "      <td>[6] மேலும் இது கிட்டத்தட்ட 100,000 முனைப்பான ப...</td>\n",
       "      <td>tam</td>\n",
       "    </tr>\n",
       "    <tr>\n",
       "      <th>2046</th>\n",
       "      <td>[7][8] சனவரி 2021 வரையில், விக்கிப்பீடியா 285 ...</td>\n",
       "      <td>tam</td>\n",
       "    </tr>\n",
       "    <tr>\n",
       "      <th>...</th>\n",
       "      <td>...</td>\n",
       "      <td>...</td>\n",
       "    </tr>\n",
       "    <tr>\n",
       "      <th>10332</th>\n",
       "      <td>ನಿಮ್ಮ ತಪ್ಪು ಏನು ಬಂದಿದೆಯೆಂದರೆ ಆ ದಿನದಿಂದ ನಿಮಗೆ ಒ...</td>\n",
       "      <td>kan</td>\n",
       "    </tr>\n",
       "    <tr>\n",
       "      <th>10333</th>\n",
       "      <td>ನಾರ್ಸಿಸಾ ತಾನು ಮೊದಲಿಗೆ ಹೆಣಗಾಡುತ್ತಿದ್ದ ಮಾರ್ಗಗಳನ್...</td>\n",
       "      <td>kan</td>\n",
       "    </tr>\n",
       "    <tr>\n",
       "      <th>10334</th>\n",
       "      <td>ಹೇಗೆ ' ನಾರ್ಸಿಸಿಸಮ್ ಈಗ ಮರಿಯನ್ ಅವರಿಗೆ ಸಂಭವಿಸಿದ ಎ...</td>\n",
       "      <td>kan</td>\n",
       "    </tr>\n",
       "    <tr>\n",
       "      <th>10335</th>\n",
       "      <td>ಅವಳು ಈಗ ಹೆಚ್ಚು ಚಿನ್ನದ ಬ್ರೆಡ್ ಬಯಸುವುದಿಲ್ಲ ಎಂದು ...</td>\n",
       "      <td>kan</td>\n",
       "    </tr>\n",
       "    <tr>\n",
       "      <th>10336</th>\n",
       "      <td>ಟೆರ್ರಿ ನೀವು ನಿಜವಾಗಿಯೂ ಆ ದೇವದೂತನಂತೆ ಸ್ವಲ್ಪ ಕಾಣು...</td>\n",
       "      <td>kan</td>\n",
       "    </tr>\n",
       "  </tbody>\n",
       "</table>\n",
       "<p>1838 rows × 2 columns</p>\n",
       "</div>"
      ],
      "text/plain": [
       "                                                    Text Label\n",
       "2042   விக்கிப்பீடியா (Wikipedia; /ˌwɪkɪˈpiːdiə/ (கேட...   tam\n",
       "2043   தமிழ் விக்கிப்பீடியாவின் 1,00,000க்கும் மேற்பட...   tam\n",
       "2044   பெரும்பாலும் இதன் எல்லாக் கட்டுரைகளும், இதனைப்...   tam\n",
       "2045   [6] மேலும் இது கிட்டத்தட்ட 100,000 முனைப்பான ப...   tam\n",
       "2046   [7][8] சனவரி 2021 வரையில், விக்கிப்பீடியா 285 ...   tam\n",
       "...                                                  ...   ...\n",
       "10332  ನಿಮ್ಮ ತಪ್ಪು ಏನು ಬಂದಿದೆಯೆಂದರೆ ಆ ದಿನದಿಂದ ನಿಮಗೆ ಒ...   kan\n",
       "10333  ನಾರ್ಸಿಸಾ ತಾನು ಮೊದಲಿಗೆ ಹೆಣಗಾಡುತ್ತಿದ್ದ ಮಾರ್ಗಗಳನ್...   kan\n",
       "10334  ಹೇಗೆ ' ನಾರ್ಸಿಸಿಸಮ್ ಈಗ ಮರಿಯನ್ ಅವರಿಗೆ ಸಂಭವಿಸಿದ ಎ...   kan\n",
       "10335  ಅವಳು ಈಗ ಹೆಚ್ಚು ಚಿನ್ನದ ಬ್ರೆಡ್ ಬಯಸುವುದಿಲ್ಲ ಎಂದು ...   kan\n",
       "10336  ಟೆರ್ರಿ ನೀವು ನಿಜವಾಗಿಯೂ ಆ ದೇವದೂತನಂತೆ ಸ್ವಲ್ಪ ಕಾಣು...   kan\n",
       "\n",
       "[1838 rows x 2 columns]"
      ]
     },
     "execution_count": 47,
     "metadata": {},
     "output_type": "execute_result"
    }
   ],
   "source": [
    "tam_kan_df"
   ]
  },
  {
   "cell_type": "code",
   "execution_count": 57,
   "id": "e120de78-2cac-4874-ac43-8c677575fcb4",
   "metadata": {},
   "outputs": [],
   "source": [
    "main_df = pd.read_csv('data/prerpo.csv',index_col=[0])"
   ]
  },
  {
   "cell_type": "code",
   "execution_count": 58,
   "id": "12c32094-423b-4010-bc97-4987ef2eb367",
   "metadata": {},
   "outputs": [
    {
     "data": {
      "text/html": [
       "<div>\n",
       "<style scoped>\n",
       "    .dataframe tbody tr th:only-of-type {\n",
       "        vertical-align: middle;\n",
       "    }\n",
       "\n",
       "    .dataframe tbody tr th {\n",
       "        vertical-align: top;\n",
       "    }\n",
       "\n",
       "    .dataframe thead th {\n",
       "        text-align: right;\n",
       "    }\n",
       "</style>\n",
       "<table border=\"1\" class=\"dataframe\">\n",
       "  <thead>\n",
       "    <tr style=\"text-align: right;\">\n",
       "      <th></th>\n",
       "      <th>Label</th>\n",
       "      <th>Text</th>\n",
       "    </tr>\n",
       "  </thead>\n",
       "  <tbody>\n",
       "    <tr>\n",
       "      <th>5021444</th>\n",
       "      <td>yue</td>\n",
       "      <td>你點解唔同我哋講嘅？</td>\n",
       "    </tr>\n",
       "    <tr>\n",
       "      <th>1952374</th>\n",
       "      <td>yue</td>\n",
       "      <td>你要食早餐啊。</td>\n",
       "    </tr>\n",
       "    <tr>\n",
       "      <th>1018771</th>\n",
       "      <td>yue</td>\n",
       "      <td>你同我講嘢？</td>\n",
       "    </tr>\n",
       "    <tr>\n",
       "      <th>5383439</th>\n",
       "      <td>yue</td>\n",
       "      <td>放開佢！</td>\n",
       "    </tr>\n",
       "    <tr>\n",
       "      <th>5411289</th>\n",
       "      <td>yue</td>\n",
       "      <td>你成世人收過最正嘅聖誕禮物係咩呀？</td>\n",
       "    </tr>\n",
       "  </tbody>\n",
       "</table>\n",
       "</div>"
      ],
      "text/plain": [
       "        Label               Text\n",
       "5021444   yue         你點解唔同我哋講嘅？\n",
       "1952374   yue            你要食早餐啊。\n",
       "1018771   yue             你同我講嘢？\n",
       "5383439   yue               放開佢！\n",
       "5411289   yue  你成世人收過最正嘅聖誕禮物係咩呀？"
      ]
     },
     "execution_count": 58,
     "metadata": {},
     "output_type": "execute_result"
    }
   ],
   "source": [
    "main_df.head()"
   ]
  },
  {
   "cell_type": "code",
   "execution_count": 61,
   "id": "a09e0c16-be52-4edd-85bf-a4badb73ee59",
   "metadata": {},
   "outputs": [],
   "source": [
    "main_df = pd.concat([main_df, tam_kan_df])"
   ]
  },
  {
   "cell_type": "code",
   "execution_count": 66,
   "id": "07398bd3-cb7d-4dbd-951b-500f546e93ec",
   "metadata": {},
   "outputs": [],
   "source": [
    "main_df.reset_index(inplace=True)"
   ]
  },
  {
   "cell_type": "code",
   "execution_count": 69,
   "id": "da6b164a-c722-4b1e-837c-e526a00f9787",
   "metadata": {},
   "outputs": [],
   "source": [
    "main_df.drop('index', axis=1, inplace=True)"
   ]
  },
  {
   "cell_type": "markdown",
   "id": "9a3f0378-47f4-4174-b3b9-52f0862061fa",
   "metadata": {},
   "source": [
    "## Save df "
   ]
  },
  {
   "cell_type": "code",
   "execution_count": 70,
   "id": "3c49bd4e-e9a0-456c-8e99-9c8ce4fded7a",
   "metadata": {},
   "outputs": [],
   "source": [
    "main_df.to_csv('data/main_data.csv')"
   ]
  },
  {
   "cell_type": "code",
   "execution_count": null,
   "id": "bd7dfc57-dc83-4872-81c0-19cda135622e",
   "metadata": {},
   "outputs": [],
   "source": []
  }
 ],
 "metadata": {
  "kernelspec": {
   "display_name": "Python 3",
   "language": "python",
   "name": "python3"
  },
  "language_info": {
   "codemirror_mode": {
    "name": "ipython",
    "version": 3
   },
   "file_extension": ".py",
   "mimetype": "text/x-python",
   "name": "python",
   "nbconvert_exporter": "python",
   "pygments_lexer": "ipython3",
   "version": "3.8.8"
  }
 },
 "nbformat": 4,
 "nbformat_minor": 5
}
